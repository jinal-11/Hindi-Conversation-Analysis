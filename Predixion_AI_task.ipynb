{
  "nbformat": 4,
  "nbformat_minor": 0,
  "metadata": {
    "colab": {
      "provenance": []
    },
    "kernelspec": {
      "name": "python3",
      "display_name": "Python 3"
    },
    "language_info": {
      "name": "python"
    }
  },
  "cells": [
    {
      "cell_type": "code",
      "execution_count": 1,
      "metadata": {
        "colab": {
          "base_uri": "https://localhost:8080/"
        },
        "id": "NFR5amUf6xEK",
        "outputId": "07f172f6-4a17-4293-b1fe-061a0b305bbe"
      },
      "outputs": [
        {
          "output_type": "stream",
          "name": "stderr",
          "text": [
            "[nltk_data] Downloading package vader_lexicon to /root/nltk_data...\n",
            "[nltk_data] Downloading package punkt to /root/nltk_data...\n",
            "[nltk_data]   Unzipping tokenizers/punkt.zip.\n"
          ]
        },
        {
          "output_type": "stream",
          "name": "stdout",
          "text": [
            "Summary:\n",
            "\n",
            "The recovery agent contacts the borrower about a missed EMI payment. The borrower explains financial difficulties due to job loss and requests additional time. They agree on a partial payment next week and a full settlement by the 15th of the following month. The agent agrees and sends payment details via SMS.\n",
            "\n",
            "Key Actions:\n",
            "- Borrower will make a partial EMI payment next week.\n",
            "- Borrower plans to pay the remaining amount by the 15th of next month.\n",
            "- Recovery agent will send payment details via SMS.\n",
            "- Borrower will follow the payment plan to avoid further issues.\n",
            "Sentiment Analysis:\n",
            "RA: {'neg': 0.0, 'neu': 1.0, 'pos': 0.0, 'compound': 0.0}\n",
            "B: {'neg': 0.0, 'neu': 1.0, 'pos': 0.0, 'compound': 0.0}\n"
          ]
        }
      ],
      "source": [
        "import nltk\n",
        "from nltk.tokenize import sent_tokenize\n",
        "from nltk.sentiment import SentimentIntensityAnalyzer\n",
        "\n",
        "# Download necessary NLTK data\n",
        "nltk.download('vader_lexicon')\n",
        "nltk.download('punkt')\n",
        "\n",
        "# Sample conversation in Hindi\n",
        "conversation = [\n",
        "    {\"speaker\": \"RA\", \"text\": \"नमस्ते श्री कुमार, मैं एक्स वाई जेड फाइनेंस से बोल रहा हूं। आपके लोन के बारे में बात करनी थी।\"},\n",
        "    {\"speaker\": \"B\", \"text\": \"हां, बोलिए। क्या बात है?\"},\n",
        "    {\"speaker\": \"RA\", \"text\": \"सर, आपका पिछले महीने का EMI अभी तक नहीं आया है। क्या कोई समस्या है?\"},\n",
        "    {\"speaker\": \"B\", \"text\": \"हां, थोड़ी दिक्कत है। मेरी नौकरी चली गई है और मैं नया काम ढूंढ रहा हूं।\"},\n",
        "    {\"speaker\": \"RA\", \"text\": \"ओह, यह तो बुरा हुआ। लेकिन सर, आपको समझना होगा कि लोन का भुगतान समय पर करना बहुत जरूरी है।\"},\n",
        "    {\"speaker\": \"B\", \"text\": \"मैं समझता हूं, लेकिन अभी मेरे पास पैसे नहीं हैं। क्या कुछ समय मिल सकता है?\"},\n",
        "    {\"speaker\": \"RA\", \"text\": \"हम समझते हैं आपकी स्थिति। क्या आप अगले हफ्ते तक कुछ भुगतान कर सकते हैं?\"},\n",
        "    {\"speaker\": \"B\", \"text\": \"मैं कोशिश करूंगा, लेकिन पूरा EMI नहीं दे पाऊंगा। क्या आधा भुगतान चलेगा?\"},\n",
        "    {\"speaker\": \"RA\", \"text\": \"ठीक है, आधा भुगतान अगले हफ्ते तक कर दीजिए। बाकी का क्या प्लान है आपका?\"},\n",
        "    {\"speaker\": \"B\", \"text\": \"मुझे उम्मीद है कि अगले महीने तक मुझे नया काम मिल जाएगा। तब मैं बाकी बकाया चुका दूंगा।\"},\n",
        "    {\"speaker\": \"RA\", \"text\": \"ठीक है। तो हम ऐसा करते हैं - आप अगले हफ्ते तक आधा EMI जमा कर दीजिए, और अगले महीने के 15 तारीख तक बाकी का भुगतान कर दीजिए। क्या यह आपको स्वीकार है?\"},\n",
        "    {\"speaker\": \"B\", \"text\": \"हां, यह ठीक रहेगा। मैं इस प्लान का पालन करने की पूरी कोशिश करूंगा।\"},\n",
        "    {\"speaker\": \"RA\", \"text\": \"बहुत अच्छा। मैं आपको एक SMS भेज रहा हूं जिसमें भुगतान की डिटेल्स होंगी। कृपया इसका पालन करें और समय पर भुगतान करें।\"},\n",
        "    {\"speaker\": \"B\", \"text\": \"ठीक है, धन्यवाद आपके समझने के लिए।\"},\n",
        "    {\"speaker\": \"RA\", \"text\": \"आपका स्वागत है। अगर कोई और सवाल हो तो मुझे बताइएगा। अलविदा।\"},\n",
        "    {\"speaker\": \"B\", \"text\": \"अलविदा।\"}\n",
        "]\n",
        "\n",
        "# Create a summary in English\n",
        "summary = \"\"\"\n",
        "The recovery agent contacts the borrower about a missed EMI payment. The borrower explains financial difficulties due to job loss and requests additional time. They agree on a partial payment next week and a full settlement by the 15th of the following month. The agent agrees and sends payment details via SMS.\n",
        "\"\"\"\n",
        "\n",
        "print(\"Summary:\")\n",
        "print(summary)\n",
        "\n",
        "# Key actions or next steps\n",
        "key_actions = [\n",
        "    \"Borrower will make a partial EMI payment next week.\",\n",
        "    \"Borrower plans to pay the remaining amount by the 15th of next month.\",\n",
        "    \"Recovery agent will send payment details via SMS.\",\n",
        "    \"Borrower will follow the payment plan to avoid further issues.\"\n",
        "]\n",
        "\n",
        "print(\"Key Actions:\")\n",
        "for action in key_actions:\n",
        "    print(f\"- {action}\")\n",
        "\n",
        "# Initialize sentiment analyzer\n",
        "sia = SentimentIntensityAnalyzer()\n",
        "\n",
        "# Analyze sentiment for each speaker\n",
        "sentiments = {\"RA\": [], \"B\": []}\n",
        "\n",
        "for line in conversation:\n",
        "    speaker = line[\"speaker\"]\n",
        "    text = line[\"text\"]\n",
        "    sentiment = sia.polarity_scores(text)\n",
        "    sentiments[speaker].append(sentiment)\n",
        "\n",
        "# Calculate average sentiment for each speaker\n",
        "average_sentiment = {speaker: {k: sum(d[k] for d in v) / len(v) for k in v[0]} for speaker, v in sentiments.items()}\n",
        "\n",
        "print(\"Sentiment Analysis:\")\n",
        "for speaker, sentiment in average_sentiment.items():\n",
        "    print(f\"{speaker}: {sentiment}\")\n"
      ]
    }
  ]
}